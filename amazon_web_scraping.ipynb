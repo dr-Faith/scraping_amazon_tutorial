{
 "cells": [
  {
   "cell_type": "markdown",
   "id": "d5214622",
   "metadata": {},
   "source": [
    "### Import Modules"
   ]
  },
  {
   "cell_type": "code",
   "execution_count": 1,
   "id": "78b80856",
   "metadata": {},
   "outputs": [],
   "source": [
    "from selenium import webdriver\n",
    "from time import sleep"
   ]
  },
  {
   "cell_type": "markdown",
   "id": "c0188fb7",
   "metadata": {},
   "source": [
    "### Set Path for Webdriver"
   ]
  },
  {
   "cell_type": "code",
   "execution_count": 2,
   "id": "b1b5fb1c",
   "metadata": {},
   "outputs": [],
   "source": [
    "browser = webdriver.Chrome()"
   ]
  },
  {
   "cell_type": "code",
   "execution_count": 3,
   "id": "36ebc325",
   "metadata": {},
   "outputs": [],
   "source": [
    "# load the webpage\n",
    "browser.get('https://www.amazon.in')"
   ]
  },
  {
   "cell_type": "code",
   "execution_count": 4,
   "id": "dbcfbf1a",
   "metadata": {},
   "outputs": [],
   "source": [
    "browser.maximize_window()"
   ]
  },
  {
   "cell_type": "code",
   "execution_count": 5,
   "id": "1530b8ff",
   "metadata": {},
   "outputs": [],
   "source": [
    "input_search = browser.find_element(by='id', value='twotabsearchtextbox')\n",
    "search_button = browser.find_element(by='id', value='nav-search-submit-button')"
   ]
  },
  {
   "cell_type": "code",
   "execution_count": 6,
   "id": "cc704c09",
   "metadata": {},
   "outputs": [],
   "source": [
    "# send the input\n",
    "input_search.send_keys('Smartphones under 10000')\n",
    "sleep(1)\n",
    "search_button.click()"
   ]
  },
  {
   "cell_type": "code",
   "execution_count": 7,
   "id": "4b9fe8a3",
   "metadata": {},
   "outputs": [],
   "source": [
    "from selenium.webdriver.common.by import By\n",
    "\n",
    "\n",
    "product_class = 'a-size-medium a-color-base a-text-normal'"
   ]
  },
  {
   "cell_type": "markdown",
   "id": "321fb7b5",
   "metadata": {},
   "source": [
    "### Scrape Products from Amazon"
   ]
  },
  {
   "cell_type": "code",
   "execution_count": 8,
   "id": "1fa8f47c",
   "metadata": {},
   "outputs": [
    {
     "name": "stdout",
     "output_type": "stream",
     "text": [
      "Scraping page 1\n",
      "Scraping page 2\n",
      "Scraping page 3\n",
      "Scraping page 4\n",
      "Scraping page 5\n",
      "Scraping page 6\n",
      "Scraping page 7\n",
      "Scraping page 8\n",
      "Scraping page 9\n",
      "Scraping page 10\n"
     ]
    }
   ],
   "source": [
    "products = []\n",
    "\n",
    "for i in range(10):\n",
    "    print('Scraping page', i+1)\n",
    "    product = browser.find_elements(By.XPATH, \"//span[@class='a-size-medium a-color-base a-text-normal']\")\n",
    "    for p in product:\n",
    "        products.append(p.text)\n",
    "    next_button = browser.find_element(By.XPATH, \"//a[@class='s-pagination-item s-pagination-next s-pagination-button s-pagination-separator']\")\n",
    "    next_button.click()\n",
    "    sleep(6)"
   ]
  },
  {
   "cell_type": "code",
   "execution_count": 9,
   "id": "a74f59a1",
   "metadata": {},
   "outputs": [
    {
     "data": {
      "text/plain": [
       "172"
      ]
     },
     "execution_count": 9,
     "metadata": {},
     "output_type": "execute_result"
    }
   ],
   "source": [
    "len(products)"
   ]
  },
  {
   "cell_type": "code",
   "execution_count": null,
   "id": "dbbcc589",
   "metadata": {},
   "outputs": [],
   "source": []
  }
 ],
 "metadata": {
  "kernelspec": {
   "display_name": "Python 3 (ipykernel)",
   "language": "python",
   "name": "python3"
  },
  "language_info": {
   "codemirror_mode": {
    "name": "ipython",
    "version": 3
   },
   "file_extension": ".py",
   "mimetype": "text/x-python",
   "name": "python",
   "nbconvert_exporter": "python",
   "pygments_lexer": "ipython3",
   "version": "3.9.13"
  }
 },
 "nbformat": 4,
 "nbformat_minor": 5
}
